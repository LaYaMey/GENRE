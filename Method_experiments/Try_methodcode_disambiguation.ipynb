{
 "cells": [
  {
   "cell_type": "code",
   "execution_count": null,
   "metadata": {},
   "outputs": [
    {
     "name": "stderr",
     "output_type": "stream",
     "text": [
      "/home/lars/.local/lib/python3.10/site-packages/tqdm/auto.py:21: TqdmWarning: IProgress not found. Please update jupyter and ipywidgets. See https://ipywidgets.readthedocs.io/en/stable/user_install.html\n",
      "  from .autonotebook import tqdm as notebook_tqdm\n"
     ]
    },
    {
     "name": "stdout",
     "output_type": "stream",
     "text": [
      "\n",
      "The method [START_ENT] ICPMS_TD [END_ENT] is widely used in elemental analysis.\n",
      "  → Inductively coupled plasma mass spectrometry (score: -0.1703)\n",
      "  → Inductively coupled plasma atomic emission spectroscopy (score: -1.2015)\n",
      "  → ICPM (score: -2.2986)\n",
      "\n",
      "We used [START_ENT] FE_EMP [END_ENT] for microscopic analysis.\n",
      "  → Faraday effect (score: -1.8307)\n",
      "  → Far-infrared astronomy (score: -3.0039)\n",
      "  → Far-infrared laser (score: -3.3976)\n",
      "\n",
      "Dating was done using [START_ENT] PB207_PB206_AGE [END_ENT].\n",
      "  → Parallel ATA (score: -1.7021)\n",
      "  → Postal codes in Malaysia (score: -1.9363)\n",
      "  → Postal codes in Canada (score: -1.9818)\n",
      "\n",
      "We measured radiation using [START_ENT] GAMMA [END_ENT].\n",
      "  → Gamma-Aminobutyric acid (score: -0.5029)\n",
      "  → GAMMA (score: -0.6394)\n",
      "  → Gamma spectroscopy (score: -1.2691)\n",
      "\n",
      "Isotope analysis used [START_ENT] WBD [END_ENT].\n",
      "  → Wavelength-division multiplexing (score: -0.8292)\n",
      "  → WBD (score: -1.5071)\n",
      "  → Wavelength-division multiple access (score: -1.6072)\n",
      "\n",
      "Analysis performed via [START_ENT] ICPOES [END_ENT].\n",
      "  → Inductively coupled plasma mass spectrometry (score: -0.6964)\n",
      "  → Inductively coupled plasma atomic emission spectroscopy (score: -0.6982)\n",
      "  → International Commission on Stratigraphy (score: -1.1478)\n",
      "\n",
      "Determined age using [START_ENT] NE21 AGE [END_ENT].\n",
      "  → Age of majority (score: -1.6452)\n",
      "  → Age of consent (score: -2.4590)\n",
      "  → New European Driving Cycle (score: -2.9641)\n"
     ]
    }
   ],
   "source": [
    "import pickle\n",
    "from genre.fairseq_model import GENRE\n",
    "from genre.trie import Trie\n",
    "\n",
    "# Load Wikipedia titles trie\n",
    "with open(\"data/kilt_titles_trie_dict.pkl\", \"rb\") as f:\n",
    "    trie = Trie.load_from_dict(pickle.load(f))\n",
    "\n",
    "# Load model\n",
    "model = GENRE.from_pretrained(\"models/fairseq_entity_disambiguation_aidayago\").eval()\n",
    "\n",
    "# Example cryptic methodcodes in context\n",
    "codes = [\n",
    "    \"The method [START_ENT] ICPMS_TD [END_ENT] is widely used in elemental analysis.\",\n",
    "    \"We used [START_ENT] FE_EMP [END_ENT] for microscopic analysis.\",\n",
    "    \"Dating was done using [START_ENT] PB207_PB206_AGE [END_ENT].\",\n",
    "    \"We measured radiation using [START_ENT] GAMMA [END_ENT].\",\n",
    "    \"Isotope analysis used [START_ENT] WBD [END_ENT].\",\n",
    "    \"Analysis performed via [START_ENT] ICPOES [END_ENT].\",\n",
    "    \"Determined age using [START_ENT] NE21 AGE [END_ENT].\"\n",
    "]\n",
    "\n",
    "# Run GENRE on each sentence\n",
    "for sentence in codes:\n",
    "    results = model.sample(\n",
    "        [sentence],\n",
    "        prefix_allowed_tokens_fn=lambda batch_id, sent: trie.get(sent.tolist())\n",
    "    )\n",
    "    print(f\"\\n{sentence}\")\n",
    "    for r in results[0][:3]:  # top 3 candidates\n",
    "        print(f\"  → {r['text']} (score: {r['score'].item():.4f})\")\n"
   ]
  },
  {
   "cell_type": "code",
   "execution_count": 8,
   "metadata": {},
   "outputs": [],
   "source": [
    "import json\n",
    "\n",
    "\n",
    "# 1. Load your candidate entities JSON, assumed format: list of strings or dict keys\n",
    "with open(\"genre_input.json\", \"r\") as f:\n",
    "    genre_input = json.load(f)\n",
    "\n",
    "candidate_entities = genre_input[\"candidate_entities\"]\n",
    "missing_codes = genre_input[\"missing_codes\"]"
   ]
  },
  {
   "cell_type": "code",
   "execution_count": 9,
   "metadata": {},
   "outputs": [],
   "source": [
    "from transformers import BartTokenizer\n",
    "from genre.fairseq_model import GENRE\n",
    "from genre.trie import Trie\n",
    "\n",
    "# Load tokenizer and model\n",
    "tokenizer = BartTokenizer.from_pretrained(\"facebook/bart-large\")\n",
    "model = GENRE.from_pretrained(\"models/fairseq_entity_disambiguation_aidayago\").eval()\n",
    "\n",
    "# Tokenize them into ID sequences\n",
    "tokenized_entities = [\n",
    "    tokenizer.encode(entity, add_special_tokens=False)\n",
    "    for entity in candidate_entities\n",
    "]\n",
    "\n",
    "\n",
    "# 2. Build trie from candidate entity strings\n",
    "trie = Trie(sequences=tokenized_entities)"
   ]
  },
  {
   "cell_type": "code",
   "execution_count": null,
   "metadata": {},
   "outputs": [],
   "source": [
    "# Run GENRE on each sentence\n",
    "for missing_code in missing_codes:\n",
    "\n",
    "    sentence = (\n",
    "        f'[START_ENT] {missing_code} [END_ENT] is a method code describing a technique for '\n",
    "        f'geochemical element extraction from rock samples in the GEOROC database.'\n",
    "    )\n",
    "    \n",
    "    results = model.sample(\n",
    "        [sentence],\n",
    "        prefix_allowed_tokens_fn=lambda batch_id, sent: trie.get(sent.tolist())\n",
    "    )\n",
    "    print(f\"\\n{missing_code}\")\n",
    "    for r in results[0][:3]:  # top 3 candidates\n",
    "        print(f\"  → {r['text']} (score: {r['score'].item():.4f})\")"
   ]
  }
 ],
 "metadata": {
  "kernelspec": {
   "display_name": "LabRotation-py310",
   "language": "python",
   "name": "python3"
  },
  "language_info": {
   "codemirror_mode": {
    "name": "ipython",
    "version": 3
   },
   "file_extension": ".py",
   "mimetype": "text/x-python",
   "name": "python",
   "nbconvert_exporter": "python",
   "pygments_lexer": "ipython3",
   "version": "3.10.18"
  }
 },
 "nbformat": 4,
 "nbformat_minor": 4
}
